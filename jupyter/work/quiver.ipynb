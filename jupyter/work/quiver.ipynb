{
 "cells": [
  {
   "cell_type": "code",
   "execution_count": null,
   "id": "56352a27-bc3d-484c-aac2-1bf7b0dec7dd",
   "metadata": {},
   "outputs": [],
   "source": [
    "# doc:\n",
    "# https://plotly.com/python/quiver-plots/\n",
    "# https://plotly.com/python-api-reference/generated/plotly.figure_factory.create_quiver.html\n",
    "import plotly.figure_factory as ff\n",
    "import numpy as np\n",
    "\n",
    "# 格子点をバーって生成する。\n",
    "# meshgrid 便利やな。cf: https://deepage.net/features/numpy-meshgrid.html\n",
    "x, y = np.meshgrid(np.arange(0, 2, .2), np.arange(0, 2, .2))\n",
    "\n",
    "# 行列の定義\n",
    "row_1, row_2 = np.array([[1.0, 1.0], [0, 0]])\n",
    "\n",
    "# 行列の積\n",
    "# FIXME ここもう少しうまい書き方ある気がする。行列の積として書ける？\n",
    "# u,v のベクトルが変換後のベクトル。\n",
    "a, b = row_1\n",
    "c, d = row_2\n",
    "u= a*x + b*y\n",
    "v= c*x + d*y \n",
    "\n",
    "# _u,_v のベクトルが「変換前の位置から変換後の位置にぎゅーっと向かうやつ」。\n",
    "_u = u-x\n",
    "_v = v-y\n",
    "\n",
    "# 描画パート。\n",
    "fig = ff.create_quiver(x, y, _u, _v,\n",
    "                       scale=1, # 矢印の大きさ\n",
    "                       arrow_scale=0.01 # 矢印のさきっちょ(?)の大きさ\n",
    "                      )\n",
    "fig.update_layout(\n",
    "    margin=dict(l=20, r=20, t=20, b=20)\n",
    ")\n",
    "fig.show()\n",
    "\n",
    "# TODO: だれかスライダーつけて。https://plotly.com/python/sliders/"
   ]
  }
 ],
 "metadata": {
  "kernelspec": {
   "display_name": "Python 3",
   "language": "python",
   "name": "python3"
  },
  "language_info": {
   "codemirror_mode": {
    "name": "ipython",
    "version": 3
   },
   "file_extension": ".py",
   "mimetype": "text/x-python",
   "name": "python",
   "nbconvert_exporter": "python",
   "pygments_lexer": "ipython3",
   "version": "3.8.8"
  }
 },
 "nbformat": 4,
 "nbformat_minor": 5
}
